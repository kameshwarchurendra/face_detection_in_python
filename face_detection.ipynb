{
 "cells": [
  {
   "cell_type": "code",
   "execution_count": 8,
   "id": "52dd24f5-78ad-4cdc-8747-aa7c01ac09fd",
   "metadata": {},
   "outputs": [],
   "source": [
    "import cv2"
   ]
  },
  {
   "cell_type": "code",
   "execution_count": 9,
   "id": "ee2abc3e-168e-4bae-ac9b-70353a3cd616",
   "metadata": {},
   "outputs": [],
   "source": [
    "face_cap = cv2.CascadeClassifier('haarcascade_frontalface_default.xml')\n",
    "video_cap =cv2.VideoCapture(0)\n",
    "while True:\n",
    "    ret,video_data= video_cap.read()\n",
    "    col = cv2.cvtColor(video_data,cv2.COLOR_BGR2GRAY)\n",
    "    faces= face_cap.detectMultiScale(col,scaleFactor=1.1,minNeighbors=5,minSize=(30,30),flags= cv2.CASCADE_SCALE_IMAGE)\n",
    "    for (x,y,w,h) in faces:\n",
    "        cv2.rectangle(video_data,(x,y),(x+w,y+h),(0,255,0),2)\n",
    "    cv2.imshow(\"video_data\",video_data)\n",
    "    if cv2.waitKey(10) == ord(\"q\"):\n",
    "        break\n",
    "video_cap.release()\n",
    "cv2.destroyAllWindows()"
   ]
  },
  {
   "cell_type": "code",
   "execution_count": null,
   "id": "5034b717-3d7d-471e-b7d7-cd2c7bb26da8",
   "metadata": {},
   "outputs": [],
   "source": []
  }
 ],
 "metadata": {
  "kernelspec": {
   "display_name": "Python 3 (ipykernel)",
   "language": "python",
   "name": "python3"
  },
  "language_info": {
   "codemirror_mode": {
    "name": "ipython",
    "version": 3
   },
   "file_extension": ".py",
   "mimetype": "text/x-python",
   "name": "python",
   "nbconvert_exporter": "python",
   "pygments_lexer": "ipython3",
   "version": "3.12.3"
  }
 },
 "nbformat": 4,
 "nbformat_minor": 5
}
